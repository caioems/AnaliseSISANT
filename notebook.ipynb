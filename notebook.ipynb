{
 "cells": [
  {
   "attachments": {},
   "cell_type": "markdown",
   "metadata": {},
   "source": [
    "# Dataset:\n",
    "\n",
    "Para este projeto foram utilizados dados públicos do Sistema de Aeronaves não Tripuladas (SISANT), um orgão da Agência Nacional de Aviação Civil (ANAC), hospedados no portal [Dados Abertos](https://dados.gov.br/dados/conjuntos-dados/aeronaves-drones-cadastrados), contendo as aeronaves não tripuladas cadastradas em cumprimento ao parágrafo E94.301(b) do [RBAC-E No 94](https://www.anac.gov.br/assuntos/legislacao/legislacao-1/rbha-e-rbac/rbac/rbac-e-94).\n",
    "\n",
    "O objetivo deste projeto é fixar métodos e práticas de data analytics utilizando Python. Considerando que os dados são crus, a experiência torna-se mais didática, uma vez que precisarão de pré-processamento.\n",
    "\n",
    "Assim sendo, pretende-se responder as seguintes perguntas:\n",
    "- Quantos drones estão cadastrados no dataset? Qual o status de cada cadastro?\n",
    "- Quantos diferentes OPERADORes estão cadastrados? Quais suas naturezas?\n",
    "- Qual uso é feito desses drones?\n",
    "- Qual empresa é a maior FABRICANTE? E quais seus os MODELOs mais populares?\n"
   ]
  },
  {
   "attachments": {},
   "cell_type": "markdown",
   "metadata": {},
   "source": [
    "### Importando módulos:"
   ]
  },
  {
   "cell_type": "code",
   "execution_count": null,
   "metadata": {},
   "outputs": [],
   "source": [
    "import numpy as np\n",
    "import pandas as pd\n",
    "import matplotlib.pyplot as plt\n",
    "import seaborn as sns\n",
    "from re import match\n",
    "from wordcloud import WordCloud\n",
    "%matplotlib inline\n",
    "\n",
    "pd.options.mode.chained_assignment = None\n",
    "sns.set_theme(\n",
    "    style = 'white',\n",
    "    palette = 'tab10')"
   ]
  },
  {
   "attachments": {},
   "cell_type": "markdown",
   "metadata": {},
   "source": [
    "### Carregando e visualizando dados:"
   ]
  },
  {
   "cell_type": "code",
   "execution_count": null,
   "metadata": {},
   "outputs": [],
   "source": [
    "url = r'https://sistemas.anac.gov.br/dadosabertos/Aeronaves/drones%20cadastrados/SISANT.csv'\n",
    "\n",
    "df = pd.read_csv(\n",
    "    url,\n",
    "    delimiter=';',\n",
    "    skiprows=1,\n",
    "    parse_dates=['DATA_VALIDADE'],\n",
    "    date_parser=lambda x: pd.to_datetime(x, format=r'%d/%m/%Y')\n",
    "    )\n",
    "\n",
    "df.dropna(inplace=True)\n",
    "df.head()"
   ]
  },
  {
   "attachments": {},
   "cell_type": "markdown",
   "metadata": {
    "tags": []
   },
   "source": [
    "### Metadados do dataset:\n",
    "\n",
    "- **CODIGO_AERONAVE**: Código da Aeronave. Segue regras:\n",
    "    - Uso Recreativo (AeroMODELO): PR-XXXXXXXXX\n",
    "    - Uso não recreativo básico (RPA Classe 3 operada em linha de visada visual abaixo de 400 pés): PP-XXXXXXXXX\n",
    "    - Uso avançado (RPA Classe 2 e demais Classe 3): PS-XXXXXXXXX  \n",
    "Obs: cada X representa um número 0-9\n",
    "\n",
    "\n"
   ]
  },
  {
   "attachments": {},
   "cell_type": "markdown",
   "metadata": {},
   "source": [
    "- **DATA_VALIDADE**: Data de validade, que é igual a data em que o cadastro foi feito ou renovado mais 2 (dois) anos  \n",
    "- **OPERADOR**: Nome do responsável pela operação do drone  \n",
    "- **CPF/CNPJ**: Número do CPF ou do CNPJ do responsável pela operação do drone"
   ]
  },
  {
   "attachments": {},
   "cell_type": "markdown",
   "metadata": {},
   "source": [
    "- **Tipo de Uso**:\n",
    "    - Básico: aeroMODELOs ou RPA Classe 3 operada exclusivamente na linha de visada visual abaixo de 400 pés AGL\n",
    "    - Avançado: RPA Classe 2 ou demais RPA classe 3"
   ]
  },
  {
   "attachments": {},
   "cell_type": "markdown",
   "metadata": {},
   "source": [
    "- **FABRICANTE**: Nome do FABRICANTE da aeronave  \n",
    "- **MODELO**: Nome do MODELO da aeronave  \n",
    "- **Número de serie**: Número de série da aeronave  \n",
    "- **Peso máximo de decolagem**: Peso máximo de decolagem, numérico com 2 (duas casas decimais) em kg\n",
    "- **Ramo de atividade**: \n",
    "    - Recreativo (aeroMODELOs)\n",
    "    - Experimental (aeronave avançada destinada exclusivamente a operações com propósitos experimentais)\n",
    "    - Outros ramos de atividade conforme declarado pelo cadastrante"
   ]
  },
  {
   "attachments": {},
   "cell_type": "markdown",
   "metadata": {},
   "source": [
    "## Informações sobre as colunas:"
   ]
  },
  {
   "cell_type": "code",
   "execution_count": null,
   "metadata": {},
   "outputs": [],
   "source": [
    "df.info()"
   ]
  },
  {
   "cell_type": "code",
   "execution_count": null,
   "metadata": {},
   "outputs": [],
   "source": [
    "df.describe(include='all', datetime_is_numeric=True)"
   ]
  },
  {
   "attachments": {},
   "cell_type": "markdown",
   "metadata": {},
   "source": [
    "Para responder a primeira pergunta foi necessário indexar o dataframe. A coluna CODIGO_AERONAVE era ideal para isso, já que teoricamente apresenta valores únicos e padronizados.   \n",
    "Porém, foram observados valores duplicados na coluna que precisaram ser removidos."
   ]
  },
  {
   "cell_type": "code",
   "execution_count": null,
   "metadata": {},
   "outputs": [],
   "source": [
    "#removendo possíveis espaços em branco\n",
    "df['CODIGO_AERONAVE'] = df['CODIGO_AERONAVE'].str.strip()\n",
    "df['CODIGO_AERONAVE'] = df['CODIGO_AERONAVE'].str.replace(\" \", \"\")\n",
    "\n",
    "#checando as duplicatas para entender se as outras colunas também possuem dados repetidos\n",
    "dupl = df[df.duplicated(subset=['CODIGO_AERONAVE'], keep=False)]\n",
    "print(dupl.sort_values(by=['CODIGO_AERONAVE']).head(6))"
   ]
  },
  {
   "attachments": {},
   "cell_type": "markdown",
   "metadata": {},
   "source": [
    "Considerando que os registros são repetições idênticas, foram eliminadas então as últimas entradas.   \n",
    "Em seguida, a coluna também foi verificada quanto a valores que não seguiam os padrões de dígitos apresentados nos metadados do dataset.  \n",
    "Finalmente, a coluna 'CODIGO_AERONAVE' foi transformada no index do dataframe."
   ]
  },
  {
   "cell_type": "code",
   "execution_count": null,
   "metadata": {},
   "outputs": [],
   "source": [
    "#Limpando as duplicatas\n",
    "df = df.drop_duplicates(subset=['CODIGO_AERONAVE'], keep='first')\n",
    "\n",
    "#checando se os padrões de código seguem os descritos nos metadados e removendo os que não seguirem\n",
    "nrows_before = df.shape[0]\n",
    "\n",
    "mask = []\n",
    "for code in df['CODIGO_AERONAVE']:\n",
    "    mask.append(bool(match('^(PR|PP|PS)-\\d{9}$', code)))\n",
    "df = df[mask]\n",
    "\n",
    "nrows_after = df.shape[0]\n",
    "print(f'Registros removidos por padrão inválido: {nrows_before - nrows_after}')\n",
    "print(f'Quantidade de registros válidos no df: {nrows_after}')\n",
    "\n",
    "#transformando a coluna no index do dataframe:\n",
    "df = df.set_index(df['CODIGO_AERONAVE'])\n",
    "#df = df.drop(('CODIGO_AERONAVE'), axis=1)"
   ]
  },
  {
   "attachments": {},
   "cell_type": "markdown",
   "metadata": {},
   "source": [
    "Com o index do dataframe pronto, seguiu-se com a preparação dos dados. As colunas DATA_VALIDADE, CPF_CNPJ, TIPO_USO, FABRICANTE, PESO_MAXIMO_DECOLAGEM_KG e RAMO_ATIVIDADE foram validadas e, quando necessário, transformadas."
   ]
  },
  {
   "cell_type": "code",
   "execution_count": null,
   "metadata": {},
   "outputs": [],
   "source": [
    "#validando a coluna 'CPF_CNPJ'\n",
    "df['CPF_CNPJ'].str.strip()\n",
    "df['CPF_CNPJ'].str.replace(\" \", \"\")\n",
    "if df['CPF_CNPJ'].value_counts().sum() == nrows_after:\n",
    "    print('Coluna CPF_CNPJ: OK')\n",
    "else:\n",
    "    print('Coluna CPF_CNPJ: Problema')\n",
    "\n",
    "#validando coluna TIPO_USO e convertendo dtype\n",
    "df['TIPO_USO'] = df['TIPO_USO'].astype('category')\n",
    "if df['TIPO_USO'].value_counts().sum() == nrows_after:\n",
    "    print('Coluna TIPO_USO: OK')\n",
    "else:\n",
    "    print('Coluna TIPO_USO: Problema')"
   ]
  },
  {
   "attachments": {},
   "cell_type": "markdown",
   "metadata": {},
   "source": [
    "As colunas 'FABRICANTE' e 'MODELO' precisaram de maior atenção pois, dada a natureza de seu input, apresentam diferentes valores para mesma categoria  \n",
    "Exemplo: 'DJI', 'dji' e 'Dji' representam a mesma FABRICANTE, DJI.\n",
    "\n",
    "Iniciou-se pela coluna 'FABRICANTE':"
   ]
  },
  {
   "cell_type": "code",
   "execution_count": null,
   "metadata": {},
   "outputs": [],
   "source": [
    "#criando função para, dada uma coluna e um dicionário de sinônimos, os nomes sejam substituídos por valores padronizados \n",
    "def fix_names(column, namemap, df=df):\n",
    "    for fixed_name, bad_names in namemap.items():\n",
    "        df.loc[df[column].str.contains(bad_names, regex=True), column] = fixed_name\n",
    "\n",
    "\n",
    "df['FABRICANTE'] = df['FABRICANTE'].str.lower()\n",
    "df['FABRICANTE'] = df['FABRICANTE'].str.strip()\n",
    "df['FABRICANTE'] = df['FABRICANTE'].str.replace(\" \", \"\")\n",
    "\n",
    "#o dicionario foi criado a partir dos valores mais comuns (value_counts()), porém, dada a alta quantidade de valores únicos, FABRICANTEs de\n",
    "#menor expressão e desconhecidos foram agrupados na categoria 'outros'       \n",
    "fab_map = {\n",
    "    'autelrobotics': 'autel',\n",
    "    'c-fly': 'cfly|c-fly',\n",
    "    'custom': 'fabrica|aeroMODELO|propria|própria|proprio|próprio|caseiro|montado|artesanal|constru',\n",
    "    'dji': 'dji|mavic|phanton|phantom',\n",
    "    'flyingcircus': 'circus',\n",
    "    'geprc': 'gepr',\n",
    "    'highgreat': 'highgreat',\n",
    "    'horus': 'horus',\n",
    "    'hubsan': 'hubsan|hubsen',\n",
    "    'nuvemuav': 'nuvem',\n",
    "    'outros': 'outro',\n",
    "    'parrot': 'parrot',\n",
    "    'phoenixmodel': 'phoenix',\n",
    "    'santiago&cintra': 'santiago|cintra',\n",
    "    'sensefly': 'sensefly',\n",
    "    'shantou': 'shantou',\n",
    "    'sjrc': 'sjrc|srjc',\n",
    "    'visuo': 'visuo',\n",
    "    'x-fly': 'xfly|x-fly',\n",
    "    'xiaomi': 'xiaomi|fimi|xiomi',\n",
    "    'xmobots': 'xmobots',\n",
    "    'zll': 'zll|sg906'\n",
    "    }\n",
    "\n",
    "#transformando nomes de FABRICANTEs\n",
    "fix_names('FABRICANTE', fab_map)\n",
    "\n",
    "df['FABRICANTE'] = df['FABRICANTE'].astype('category')\n",
    "\n",
    "if df['FABRICANTE'].value_counts().sum() == nrows_after:\n",
    "    print('Coluna FABRICANTE: OK')\n",
    "else:\n",
    "    print('Coluna FABRICANTE: Problema')"
   ]
  },
  {
   "attachments": {},
   "cell_type": "markdown",
   "metadata": {},
   "source": [
    "Enquanto a próxima coluna, 'MODELO', será transformada posteriormente, pois iremos trabalhar apenas com os MODELOs da maior fornecedora (FABRICANTE) de drones do dataset.\n",
    "\n",
    "Finalmente, a coluna 'RAMO_ATIVIDADE' também foi validada e transformada. Essa coluna classifica os drones nas categorias Recreativo, Experimental e Outras atividades, sendo essa última categoria especificada livremente pelo usuário.\n"
   ]
  },
  {
   "cell_type": "code",
   "execution_count": null,
   "metadata": {},
   "outputs": [],
   "source": [
    "df['RAMO_ATIVIDADE'] = df['RAMO_ATIVIDADE'].str.lower()\n",
    "df['RAMO_ATIVIDADE'] = df['RAMO_ATIVIDADE'].str.strip()\n",
    "df['RAMO_ATIVIDADE'] = df['RAMO_ATIVIDADE'].str.replace(\" \", \"\")\n",
    "\n",
    "#novamente foi criado um dicionário baseado nos valores mais comuns para padronizá-los e reduzir a quantidade de categorias\n",
    "act_map = {\n",
    "    'educação': 'treinamento|educa|ensin|pesquis',\n",
    "    'engenharia': 'pulveriz|aeroagr|agricultura|levantamento|fotograme|prospec|topografia|minera|capta|avalia|mapea|geoproc|engenharia|energia|solar|ambiental|constru|obras|industria|arquitetura|meioambiente',    \n",
    "    'foto&cinem': 'fotografia|cinema|inspe|vídeo|video|fotos|jornal|filma|maker|audit|monit|perícia|audiovisu|vistoria|imagens|turismo|youtube|imobili|imóveis',\n",
    "    'logística': 'transport|carga|delivery',\n",
    "    'publicidade': 'publicid|letreir|show|marketing|demonstr|eventos|comercial',\n",
    "    'segurança': 'seguran|fiscaliza|reporta|vigi|policia|bombeiro|defesa|combate|emergencia|infraestrutura'\n",
    "    }\n",
    "\n",
    "#corrigindo nomes a partir do dicionário, reclassificando atividades mais específicas em 'outros' e convertendo o dtype da coluna\n",
    "fix_names('RAMO_ATIVIDADE', act_map, df)\n",
    "df.loc[\n",
    "    ~df['RAMO_ATIVIDADE'].isin(\n",
    "        df['RAMO_ATIVIDADE'].value_counts().head(8).index\n",
    "        ), 'RAMO_ATIVIDADE'\n",
    "    ] = 'outros'\n",
    "df['RAMO_ATIVIDADE'] = df['RAMO_ATIVIDADE'].astype('category')\n",
    "\n",
    "if df['RAMO_ATIVIDADE'].value_counts().sum() == nrows_after:\n",
    "    print('Coluna RAMO_ATIVIDADE: OK')\n",
    "else:\n",
    "    print('Coluna RAMO_ATIVIDADE: Problema')"
   ]
  },
  {
   "cell_type": "code",
   "execution_count": null,
   "metadata": {},
   "outputs": [],
   "source": [
    "#dropando colunas que não serão utilizadas na análise\n",
    "df = df.drop(('NUMERO_SERIE'), axis=1)\n",
    "df = df.drop(('PESO_MAXIMO_DECOLAGEM_KG'), axis=1)\n",
    "\n",
    "#conferindo as informações do dataset pré-processado\n",
    "df.describe(include='all', datetime_is_numeric=True)"
   ]
  },
  {
   "attachments": {},
   "cell_type": "markdown",
   "metadata": {},
   "source": [
    "## Análise exploratória do dataframe:  \n",
    "\n",
    "A coluna 'DATA_VALIDADE', como o próprio nome sugere, apresenta as datas em que os cadastros devem ser renovados. Conforme a legislação, sabe-se que o prazo de expiração é de dois anos contados a partir da data de cadastro, e que após seis meses de expiração o cadastro não é mais renovável (torna-se inativo), podemos obter dois tipos de informação a partir dessa coluna:  \n",
    "- A data de adesão da aeronave ao sistema;\n",
    "- Quantos cadastros encontram-se fora do prazo de validade, carecem de renovação ou recadastramento.   "
   ]
  },
  {
   "cell_type": "code",
   "execution_count": null,
   "metadata": {},
   "outputs": [],
   "source": [
    "#criando coluna 'DATA_CADASTRO'\n",
    "df['DATA_CADASTRO'] = df['DATA_VALIDADE'] - pd.DateOffset(years=2)\n",
    "\n",
    "#criando função que classifica datas conforme situação do cadastro\n",
    "def status_cadastro(date):\n",
    "    today = pd.Timestamp.today()\n",
    "    if date < today:\n",
    "        return 'renovar'\n",
    "    elif date + pd.DateOffset(months=6) < today:\n",
    "        return 'inativo'\n",
    "    return 'ok'\n",
    "\n",
    "#criando coluna 'STATUS', contendo dados categorizados sobre cada aeronave (cadastro ok, renovar ou inativo)\n",
    "df['STATUS'] = df['DATA_VALIDADE'].apply(status_cadastro)\n",
    "df['STATUS'] = df['STATUS'].astype('category')\n",
    "\n",
    "#calculando valores e criando gráfico\n",
    "num_inat = df[df['STATUS']=='inativo'].shape[0]\n",
    "num_renov = df[df['STATUS']=='renovar'].shape[0]\n",
    "num_ok = df[df['STATUS']=='ok'].shape[0]\n",
    "\n",
    "fig, axs = plt.subplots(1, 2, figsize=(12,6))\n",
    "fig.suptitle('Cadastros bimestrais e status do cadastro', weight='bold')\n",
    "fig.tight_layout()\n",
    "\n",
    "#agregando dados em bimestres\n",
    "agg_data = df.resample('M', on='DATA_CADASTRO').count()\n",
    "agg_data.reset_index(inplace=True)\n",
    "\n",
    "#criando gráfico 1\n",
    "sns.lineplot(\n",
    "    agg_data,\n",
    "    x='DATA_CADASTRO', \n",
    "    y='OPERADOR',     \n",
    "    ax=axs[0]\n",
    "    )\n",
    "\n",
    "axs[0].grid(axis='x', linestyle='--')\n",
    "axs[0].yaxis.grid(False)\n",
    "\n",
    "#xmin, xmax = cad_count.get_xlim()\n",
    "#xticks = np.linspace(xmin, xmax, 5)\n",
    "axs[0].set(\n",
    "    xticks=['2020-12-31', '2021-12-31', '2022-12-31', '2022-12-31'], \n",
    "    ylabel=None, \n",
    "    xlabel='Data de cadastro',\n",
    "    )\n",
    "\n",
    "#criando gráfico 2\n",
    "sns.countplot(\n",
    "    df, \n",
    "    y='STATUS',\n",
    "    order=df['STATUS'].value_counts().iloc[:3].index, \n",
    "    ax=axs[1]\n",
    "    )\n",
    "axs[1].set(\n",
    "    xlabel='Qtd. cadastros',\n",
    "    ylabel=None,\n",
    "    )\n",
    "\n",
    "sns.despine(ax=axs[0])\n",
    "sns.despine(ax=axs[1])\n",
    "\n",
    "print(f'Foram verificados {df.shape[0]} cadastros, sendo {num_inat} inativos ({round(num_inat / df.shape[0] * 100, ndigits=1)}%), {num_renov} a serem renovados ({round(num_renov / df.shape[0] * 100, ndigits=1)}%) e {num_ok} regulares ({round(num_ok / df.shape[0] * 100, ndigits=1)}%).')"
   ]
  },
  {
   "attachments": {},
   "cell_type": "markdown",
   "metadata": {},
   "source": [
    "Observou-se que a taxa de adesão de aeronaves ao sistema vem crescendo a cada mês, apesar da queda recente na quantidade de cadastros.\n",
    "\n",
    "Antes de analisar a coluna OPERADOR é preciso confrontar os dados com a coluna 'CPF_CNPJ', uma vez que os valores da última são únicos. A coluna 'OPERADOR' contém input de texto humano e, em múltiplos registros, foram encontrados diferentes nomes para o mesmo CPF/CNPJ. \n",
    " \n",
    "Foi ainda criada uma coluna chamada 'NATUREZA_OP' contendo a classificação entre pessoa física (PF) ou jurídica (PJ). É importante mencionar que os valores relacionados ao CPF fornecidos pelo dataset são parcialmente censurados, visando a preservação de dados pessoais."
   ]
  },
  {
   "cell_type": "code",
   "execution_count": null,
   "metadata": {},
   "outputs": [],
   "source": [
    "#agrupando dados pela coluna de valores únicos CPF_CNPJ, sendo que os respectivos valores para a coluna OPERADOR foram enviados para uma lista\n",
    "op_group = df.groupby('CPF_CNPJ')['OPERADOR'].apply(list).to_dict()\n",
    "\n",
    "#criando mapa no formato de dicionário onde CPF_CNPJ será a chave e o primeiro valor da lista de operadores será o nome padrão \n",
    "op_dict = {k: v[0] for k, v in op_group.items()}\n",
    "\n",
    "#substituindo valores antigos da coluna OPERADOR pelos nomes corrigidos\n",
    "unique_ops1 = len(df['OPERADOR'].unique())\n",
    "df['OPERADOR'] = df['CPF_CNPJ'].map(op_dict)\n",
    "unique_ops2 = len(df['OPERADOR'].unique())\n",
    "\n",
    "print(f'A coluna OPERADOR teve {unique_ops1 - unique_ops2} nomes corrigidos.')\n",
    "\n",
    "#criando coluna NATUREZA_OP contendo classificação dos operadores entre pessoa física ou jurídica\n",
    "df['NATUREZA_OP'] = df['CPF_CNPJ'].apply(\n",
    "    lambda x: 'PF' if x.startswith('CPF') else 'PJ'\n",
    "    ).astype('category')\n",
    "    "
   ]
  },
  {
   "cell_type": "code",
   "execution_count": null,
   "metadata": {},
   "outputs": [],
   "source": [
    "fig, ax = plt.subplots(figsize=(6,6))\n",
    "fig.tight_layout(pad=2)\n",
    "fig.suptitle(\n",
    "    'Distribuição das aeronaves conforme o tipo de uso', \n",
    "    weight='bold')\n",
    "\n",
    "ax.pie(\n",
    "    df['TIPO_USO'].value_counts(),  \n",
    "    autopct='%1.1f%%', \n",
    "    startangle=315\n",
    "    )\n",
    "\n",
    "# draw circle\n",
    "centre_circle = plt.Circle((0,0),0.70,fc='white')\n",
    "fig.gca().add_artist(centre_circle)\n",
    "\n",
    "fig.legend(\n",
    "    labels = df['TIPO_USO'].value_counts().index.tolist(), \n",
    "    loc = 'lower right'\n",
    "    )\n",
    "\n",
    "# Equal aspect ratio ensures that pie is drawn as a circle\n",
    "ax.axis('equal')    \n",
    "sns.despine(ax=ax)\n",
    "\n",
    "percentage = df['TIPO_USO'].value_counts() / df['TIPO_USO'].value_counts().sum()    \n",
    "print(f'O tipo de uso mais frequente é o basico, registrado em {round(percentage[0] * 100, 1)}% dos registros.')"
   ]
  },
  {
   "attachments": {},
   "cell_type": "markdown",
   "metadata": {},
   "source": [
    "Para avançar no entendimento do uso das aeronaves, avaliou-se então a coluna RAMO_ATIVIDADE. Primeiramente, observou-se que a grande maioria dos drones registrados são destinados a atividades recreativas, sendo as atividades de 'fotografia e cinema' e 'engenharia' vindo logo após.\n",
    "\n",
    "Adicionalmente esses números ainda foram comparados com a coluna NATUREZA_OP, onde verificou-se que as pessoas físicas são maioria em quase todas as atividades, com exceção da engenharia e da segurança."
   ]
  },
  {
   "cell_type": "code",
   "execution_count": null,
   "metadata": {},
   "outputs": [],
   "source": [
    "fig, ax = plt.subplots(figsize = (12,6))\n",
    "fig.tight_layout(pad=2)\n",
    "fig.suptitle('Distribuição das aeronaves conforme os ramos de atividade no SISANT', weight = 'bold')\n",
    "\n",
    "ax = sns.countplot(\n",
    "    df, \n",
    "    y = 'RAMO_ATIVIDADE', \n",
    "    hue = 'NATUREZA_OP',\n",
    "    order = df['RAMO_ATIVIDADE'].value_counts().iloc[:10].index\n",
    "    )\n",
    "\n",
    "ax.grid(axis = 'x', linestyle = '--')\n",
    "ax.yaxis.grid(False)\n",
    "ax.set(xlabel = None, ylabel = None)\n",
    "ax.legend(\n",
    "    loc = 'lower right',\n",
    "    labels = ['Pessoas físicas', 'Pessoas jurídicas']\n",
    "    )\n",
    "\n",
    "sns.despine(ax=ax)"
   ]
  },
  {
   "attachments": {},
   "cell_type": "markdown",
   "metadata": {},
   "source": [
    "Depois analisou-se a questão dos FABRICANTEs e MODELOs de drone. Quanto aos FABRICANTEs, foi observada a dominância da FABRICANTE DJI,"
   ]
  },
  {
   "cell_type": "code",
   "execution_count": null,
   "metadata": {},
   "outputs": [],
   "source": [
    "#criando nuvem de palavras para representar a distribuição das FABRICANTEs\n",
    "fig, ax = plt.subplots(figsize=(12,6))\n",
    "\n",
    "fig.tight_layout(pad=2)\n",
    "fig.suptitle('Principais FABRICANTEs das aeronaves no SISANT', weight='bold')\n",
    "\n",
    "wordcloud = WordCloud(\n",
    "    width=1200, height=600,\n",
    "    mode='RGBA', \n",
    "    background_color='white',\n",
    "    #min_font_size=15,\n",
    "    colormap='tab10'\n",
    "    ).fit_words(\n",
    "        df['FABRICANTE'].value_counts().to_dict()\n",
    "        )\n",
    "\n",
    "ax.axis(\"off\")\n",
    "ax.imshow(wordcloud, interpolation='bilinear') \n",
    "\n",
    "\n",
    "counts = df['FABRICANTE'].value_counts()\n",
    "percentages = counts / counts.sum()\n",
    "percentages = percentages.apply(\n",
    "    lambda x: f'{round(x * 100, 1)}%'\n",
    "    )\n",
    "\n",
    "print(f'A maior fornecedora é {percentages.index[0].upper()}, constando em {percentages[0]} dos registros')\n",
    "\n",
    "print(percentages.head(10))"
   ]
  },
  {
   "attachments": {},
   "cell_type": "markdown",
   "metadata": {},
   "source": [
    "Foram então verificados quais os principais MODELOs de aeronaves DJI registrados no dataset."
   ]
  },
  {
   "cell_type": "code",
   "execution_count": null,
   "metadata": {},
   "outputs": [],
   "source": [
    "#criando subset contendo os drones fabricados pela dji\n",
    "dji_df = df.loc[df['FABRICANTE']=='dji']\n",
    "\n",
    "#transformando os nomes\n",
    "dji_df['MODELO'] = dji_df['MODELO'].str.lower()\n",
    "dji_df['MODELO'] = dji_df['MODELO'].str.strip()\n",
    "dji_df['MODELO'] = dji_df['MODELO'].str.replace(\" \", \"\")\n",
    "\n",
    "dji_model_map = {\n",
    "    'mavic': 'mav|air|ma2ue3w|m1p|da2sue1|1ss5|u11x|rc231|m2e|l1p|enterprisedual',\n",
    "    'phantom': 'phan|wm331a|p4p|w322b|p4mult|w323|wm332a|hanto',\n",
    "    'mini': 'min|mt2pd|mt2ss5|djimi|mt3m3vd',\n",
    "    'spark': 'spa|mm1a',\n",
    "    'matrice': 'matrice|m300',\n",
    "    'avata': 'avata|qf2w4k',\n",
    "    'inspire': 'inspire',\n",
    "    'tello': 'tello|tlw004',\n",
    "    'agras': 'agras|mg-1p|mg1p|t16|t10|t40|3wwdz',\n",
    "    'fpv': 'fpv',\n",
    "    'outros': 'dji'\n",
    "    }\n",
    "\n",
    "#transformando nomes de FABRICANTEs\n",
    "fix_names('MODELO', dji_model_map, dji_df)\n",
    "dji_df.loc[~dji_df['MODELO'].isin(dji_df['MODELO'].value_counts().head(14).index), 'MODELO'] = 'outros'\n",
    "dji_df['MODELO'] = dji_df['MODELO'].astype('category')\n",
    "\n",
    "\n",
    "fig, ax = plt.subplots(figsize=(12,6))\n",
    "fig.tight_layout(pad=2)\n",
    "fig.suptitle('Distribuição dos MODELOs de aeronave fabricadas pela DJI no SISANT')\n",
    "\n",
    "sns.countplot(\n",
    "    y = dji_df['MODELO'],\n",
    "    order = dji_df['MODELO'].value_counts().iloc[:10].index,\n",
    "    ax=ax\n",
    "    )\n",
    "\n",
    "ax.grid(\n",
    "    axis='x', \n",
    "    linestyle='--'\n",
    "    )\n",
    "#ax.yaxis.grid(False)\n",
    "\n",
    "ax.set(\n",
    "    xlabel=None,\n",
    "    ylabel=None,\n",
    ")\n",
    "\n",
    "sns.despine(ax=ax)\n"
   ]
  },
  {
   "attachments": {},
   "cell_type": "markdown",
   "metadata": {},
   "source": [
    "Quais as marcas preferidas dos PF e dos PJ?"
   ]
  },
  {
   "cell_type": "code",
   "execution_count": null,
   "metadata": {},
   "outputs": [],
   "source": [
    "pf_df = df.loc[df['NATUREZA_OP']=='PF', 'FABRICANTE']\n",
    "pj_df = df.loc[df['NATUREZA_OP']=='PJ', 'FABRICANTE']\n",
    "\n",
    "fig, axs = plt.subplots(1, 2, figsize=(12,6), sharey=True)\n",
    "fig.suptitle('Distribuição das FABRICANTEs de aeronaves conforme a natureza jurídica do OPERADOR', weight='bold')\n",
    "fig.tight_layout(pad=2)\n",
    "\n",
    "sns.countplot(\n",
    "    x=pf_df, \n",
    "    order=pf_df.value_counts().iloc[:7].index, \n",
    "    ax=axs[0]\n",
    "    )\n",
    "\n",
    "for bar in axs[0].patches:\n",
    "    height = bar.get_height()\n",
    "    axs[0].annotate(\n",
    "        text=f\"{int(height)}\", \n",
    "        xy=(bar.get_x() + bar.get_width() / 2, height),\n",
    "        ha='center',\n",
    "        va='bottom'\n",
    "        )\n",
    "   \n",
    "axs[0].set(\n",
    "    xlabel=None, \n",
    "    ylabel=None,\n",
    "    title='PF'\n",
    "    )\n",
    "\n",
    "sns.despine(ax=axs[0])\n",
    "    \n",
    "sns.countplot(\n",
    "    x=pj_df, \n",
    "    order=pj_df.value_counts().iloc[:7].index, \n",
    "    ax=axs[1]\n",
    "    )\n",
    "\n",
    "for bar in axs[1].patches:\n",
    "    height = bar.get_height()\n",
    "    axs[1].annotate(\n",
    "        text=f\"{int(height)}\", \n",
    "        xy=(bar.get_x() + bar.get_width() / 2, height),\n",
    "        ha='center', \n",
    "        va='bottom'\n",
    "        )\n",
    "\n",
    "axs[1].set(\n",
    "    xlabel=None, \n",
    "    ylabel=None,\n",
    "    title='PJ'\n",
    "    )\n",
    "\n",
    "sns.despine(ax=axs[1])\n",
    "\n",
    "\n"
   ]
  }
 ],
 "metadata": {
  "kernelspec": {
   "display_name": "Python 3",
   "language": "python",
   "name": "python3"
  },
  "language_info": {
   "codemirror_mode": {
    "name": "ipython",
    "version": 3
   },
   "file_extension": ".py",
   "mimetype": "text/x-python",
   "name": "python",
   "nbconvert_exporter": "python",
   "pygments_lexer": "ipython3",
   "version": "3.11.1"
  },
  "orig_nbformat": 4,
  "vscode": {
   "interpreter": {
    "hash": "6e7a514e5042cde9862d34c123a6501fb2d8505855093803cdf6de20648185be"
   }
  }
 },
 "nbformat": 4,
 "nbformat_minor": 2
}
